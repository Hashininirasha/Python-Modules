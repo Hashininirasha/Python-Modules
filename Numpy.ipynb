{
 "cells": [
  {
   "cell_type": "code",
   "execution_count": 1,
   "metadata": {},
   "outputs": [
    {
     "name": "stdout",
     "output_type": "stream",
     "text": [
      "[[11, 12, 13], [14, 15, 16], [17, 18, 19]]\n"
     ]
    }
   ],
   "source": [
    "import numpy as np\n",
    "array1=[[11,12,13],\n",
    "       [14,15,16],\n",
    "       [17,18,19]]\n",
    "array1_new=np.array(array1)\n",
    "print(array1)"
   ]
  },
  {
   "cell_type": "code",
   "execution_count": 2,
   "metadata": {},
   "outputs": [
    {
     "name": "stdout",
     "output_type": "stream",
     "text": [
      "[[11 12 13]\n",
      " [14 15 16]\n",
      " [17 18 19]]\n"
     ]
    }
   ],
   "source": [
    "print(array1_new)"
   ]
  },
  {
   "cell_type": "code",
   "execution_count": 4,
   "metadata": {},
   "outputs": [
    {
     "name": "stdout",
     "output_type": "stream",
     "text": [
      "[1 2 3 4]\n"
     ]
    }
   ],
   "source": [
    "x=[1,2,3,4]\n",
    "array2=np.array(x)\n",
    "print(array2)"
   ]
  },
  {
   "cell_type": "code",
   "execution_count": 6,
   "metadata": {},
   "outputs": [
    {
     "name": "stdout",
     "output_type": "stream",
     "text": [
      "[[1 2 3]\n",
      " [4 5 6]]\n"
     ]
    }
   ],
   "source": [
    "import numpy as np\n",
    "my_list=[[1,2,3],\n",
    "        [4,5,6]]\n",
    "array3=np.array(my_list,dtype=np.int)\n",
    "print(array3)"
   ]
  },
  {
   "cell_type": "code",
   "execution_count": 6,
   "metadata": {},
   "outputs": [],
   "source": [
    "##shape and ndim"
   ]
  },
  {
   "cell_type": "code",
   "execution_count": 10,
   "metadata": {},
   "outputs": [],
   "source": [
    "import numpy as np\n",
    "array1=[[11,12,13],\n",
    "       [14,15,16],\n",
    "       [17,18,19]]\n",
    "array1_new=np.array(array1)\n"
   ]
  },
  {
   "cell_type": "code",
   "execution_count": 12,
   "metadata": {},
   "outputs": [
    {
     "name": "stdout",
     "output_type": "stream",
     "text": [
      "2\n"
     ]
    }
   ],
   "source": [
    "print(array1_new.ndim)"
   ]
  },
  {
   "cell_type": "code",
   "execution_count": 13,
   "metadata": {},
   "outputs": [
    {
     "name": "stdout",
     "output_type": "stream",
     "text": [
      "1\n"
     ]
    }
   ],
   "source": [
    "x=[1,2,3,4]\n",
    "array2=np.array(x)\n",
    "print(array2.ndim)"
   ]
  },
  {
   "cell_type": "code",
   "execution_count": 14,
   "metadata": {},
   "outputs": [
    {
     "name": "stdout",
     "output_type": "stream",
     "text": [
      "(3, 3)\n"
     ]
    }
   ],
   "source": [
    "print(array1_new.shape)"
   ]
  },
  {
   "cell_type": "code",
   "execution_count": 15,
   "metadata": {},
   "outputs": [],
   "source": [
    "##np.arrange() and np.resize()"
   ]
  },
  {
   "cell_type": "code",
   "execution_count": 16,
   "metadata": {},
   "outputs": [
    {
     "name": "stdout",
     "output_type": "stream",
     "text": [
      "[[11 12 13]\n",
      " [14 15 16]\n",
      " [17 18 19]]\n"
     ]
    }
   ],
   "source": [
    "print(array1_new)"
   ]
  },
  {
   "cell_type": "code",
   "execution_count": 18,
   "metadata": {},
   "outputs": [
    {
     "name": "stdout",
     "output_type": "stream",
     "text": [
      "[[11 12 13]\n",
      " [14 15 16]\n",
      " [17 18 19]]\n"
     ]
    }
   ],
   "source": [
    "array2=array1_new.reshape(3,3)\n",
    "print(array2)"
   ]
  },
  {
   "cell_type": "code",
   "execution_count": 25,
   "metadata": {},
   "outputs": [
    {
     "name": "stdout",
     "output_type": "stream",
     "text": [
      "[-10  -8  -6  -4  -2   0   2   4   6   8]\n"
     ]
    }
   ],
   "source": [
    "array=np.arange(-10,10,2)\n",
    "print(array)"
   ]
  },
  {
   "cell_type": "code",
   "execution_count": 1,
   "metadata": {},
   "outputs": [],
   "source": [
    "##array Creation Routines"
   ]
  },
  {
   "cell_type": "code",
   "execution_count": 4,
   "metadata": {
    "scrolled": true
   },
   "outputs": [
    {
     "name": "stdout",
     "output_type": "stream",
     "text": [
      "[[6553710 3342433]\n",
      " [4980828 6422633]\n",
      " [6357106 7929970]]\n"
     ]
    }
   ],
   "source": [
    "import numpy as np\n",
    "x=np.empty((3,2),dtype=np.int)\n",
    "print(x)"
   ]
  },
  {
   "cell_type": "code",
   "execution_count": 5,
   "metadata": {},
   "outputs": [
    {
     "name": "stdout",
     "output_type": "stream",
     "text": [
      "[0. 0. 0. 0. 0.]\n"
     ]
    }
   ],
   "source": [
    "x=np.zeros(5)\n",
    "print(x)"
   ]
  },
  {
   "cell_type": "code",
   "execution_count": 9,
   "metadata": {},
   "outputs": [
    {
     "name": "stdout",
     "output_type": "stream",
     "text": [
      "[[0. 0.]\n",
      " [0. 0.]\n",
      " [0. 0.]]\n"
     ]
    }
   ],
   "source": [
    "x=np.zeros((3,2),dtype=np.float)\n",
    "print(x)"
   ]
  },
  {
   "cell_type": "code",
   "execution_count": 13,
   "metadata": {},
   "outputs": [
    {
     "name": "stdout",
     "output_type": "stream",
     "text": [
      "[[1 1]\n",
      " [1 1]\n",
      " [1 1]]\n"
     ]
    }
   ],
   "source": [
    "x=np.ones((3,2),dtype=np.int)\n",
    "print(x)"
   ]
  },
  {
   "cell_type": "code",
   "execution_count": 15,
   "metadata": {},
   "outputs": [
    {
     "name": "stdout",
     "output_type": "stream",
     "text": [
      "[[0 0]\n",
      " [0 0]\n",
      " [0 0]]\n"
     ]
    }
   ],
   "source": [
    "x=np.zeros((3,2),dtype=np.int)\n",
    "print(x)"
   ]
  },
  {
   "cell_type": "code",
   "execution_count": 16,
   "metadata": {},
   "outputs": [],
   "source": [
    "##indexing and Slicing"
   ]
  },
  {
   "cell_type": "code",
   "execution_count": 18,
   "metadata": {},
   "outputs": [
    {
     "name": "stdout",
     "output_type": "stream",
     "text": [
      "[[17 86  5 40 42]\n",
      " [ 7 42 15  1 67]\n",
      " [ 0 36 72 14 30]\n",
      " [32 90 27 26 57]\n",
      " [20 70 39 82 94]\n",
      " [86 69 41 91  3]\n",
      " [56 45 51 24 25]\n",
      " [13 24 67 88 77]\n",
      " [23 78 36 19 73]\n",
      " [88 63 32 75 42]]\n"
     ]
    }
   ],
   "source": [
    "array=np.random.randint(0,100,(10,5))\n",
    "print(array)"
   ]
  },
  {
   "cell_type": "code",
   "execution_count": 20,
   "metadata": {},
   "outputs": [
    {
     "name": "stdout",
     "output_type": "stream",
     "text": [
      "array1: [[52 76 81]\n",
      " [24  5 12]\n",
      " [73 39 17]\n",
      " [86 97 90]]\n",
      "array2: [[30 18 10]\n",
      " [80 23 35]\n",
      " [29 97 17]\n",
      " [43 33 71]]\n",
      "array3: [[ 82  94  91]\n",
      " [104  28  47]\n",
      " [102 136  34]\n",
      " [129 130 161]]\n"
     ]
    }
   ],
   "source": [
    "array1=np.random.randint(0,100,(4,3))\n",
    "array2=np.random.randint(0,100,(4,3))\n",
    "array3=array1+array2\n",
    "print('array1:',array1)\n",
    "print('array2:',array2)\n",
    "print('array3:',array3)"
   ]
  },
  {
   "cell_type": "code",
   "execution_count": 21,
   "metadata": {},
   "outputs": [
    {
     "name": "stdout",
     "output_type": "stream",
     "text": [
      "array1: [[47 97 36]\n",
      " [93 95 16]\n",
      " [67 10 95]\n",
      " [92 33 91]]\n",
      "array2: [[4.7 9.7 3.6]\n",
      " [9.3 9.5 1.6]\n",
      " [6.7 1.  9.5]\n",
      " [9.2 3.3 9.1]]\n"
     ]
    }
   ],
   "source": [
    "array1=np.random.randint(0,100,(4,3))\n",
    "array2=array1/10\n",
    "print('array1:',array1)\n",
    "print('array2:',array2)"
   ]
  },
  {
   "cell_type": "code",
   "execution_count": 22,
   "metadata": {},
   "outputs": [
    {
     "name": "stdout",
     "output_type": "stream",
     "text": [
      "array1: [[ 4 12 22]\n",
      " [43 20 78]\n",
      " [48 92 48]\n",
      " [60 94 74]]\n",
      "array2: [[48  2 34  1 27]\n",
      " [52 27 87 48 98]\n",
      " [88 80 99 89 30]]\n",
      "Mautipication [[ 2752  2092  3358  2538  1944]\n",
      " [ 9968  6866 10924  7945  5461]\n",
      " [11312  6420 14388  8736 11752]\n",
      " [14280  8578 17544 11158 13052]]\n"
     ]
    }
   ],
   "source": [
    "array1=np.random.randint(0,100,(4,3))\n",
    "array2=np.random.randint(0,100,(3,5))\n",
    "print('array1:',array1)\n",
    "print('array2:',array2)\n",
    "array4=np.matmul(array1,array2)\n",
    "print('Mautipication',array4)"
   ]
  },
  {
   "cell_type": "code",
   "execution_count": null,
   "metadata": {},
   "outputs": [],
   "source": []
  }
 ],
 "metadata": {
  "kernelspec": {
   "display_name": "Python 3",
   "language": "python",
   "name": "python3"
  },
  "language_info": {
   "codemirror_mode": {
    "name": "ipython",
    "version": 3
   },
   "file_extension": ".py",
   "mimetype": "text/x-python",
   "name": "python",
   "nbconvert_exporter": "python",
   "pygments_lexer": "ipython3",
   "version": "3.8.5"
  }
 },
 "nbformat": 4,
 "nbformat_minor": 4
}
